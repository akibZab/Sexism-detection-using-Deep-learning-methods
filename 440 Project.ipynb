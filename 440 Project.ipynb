{
 "cells": [
  {
   "cell_type": "code",
   "execution_count": 224,
   "id": "a6deeaeb",
   "metadata": {},
   "outputs": [],
   "source": [
    "import pandas as pd\n",
    "import numpy as np\n",
    "import re\n",
    "import nltk\n",
    "from nltk.corpus import stopwords\n",
    "from numpy import array\n",
    "from sklearn.feature_extraction.text import TfidfVectorizer\n",
    "from sklearn.feature_extraction.text import CountVectorizer\n",
    "from sklearn.linear_model import LogisticRegression\n",
    "from sklearn.naive_bayes import MultinomialNB\n",
    "from keras.preprocessing.text import one_hot, Tokenizer\n",
    "from keras_preprocessing.sequence import pad_sequences\n",
    "from keras.models import Sequential\n",
    "from keras.layers.core import Activation, Dropout, Dense\n",
    "from keras.layers import Flatten, GlobalMaxPooling1D, Embedding, Conv1D, LSTM\n",
    "from tensorflow.keras.layers import GRU, Bidirectional\n",
    "from sklearn.model_selection import train_test_split"
   ]
  },
  {
   "cell_type": "code",
   "execution_count": 88,
   "id": "257734a3",
   "metadata": {},
   "outputs": [],
   "source": [
    "movie_reviews = pd.read_csv(\"train_all_tasks.csv\")"
   ]
  },
  {
   "cell_type": "code",
   "execution_count": 89,
   "id": "829387ff",
   "metadata": {},
   "outputs": [
    {
     "data": {
      "text/plain": [
       "(14000, 5)"
      ]
     },
     "execution_count": 89,
     "metadata": {},
     "output_type": "execute_result"
    }
   ],
   "source": [
    "movie_reviews.shape"
   ]
  },
  {
   "cell_type": "code",
   "execution_count": 90,
   "id": "794d9000",
   "metadata": {},
   "outputs": [
    {
     "data": {
      "text/html": [
       "<div>\n",
       "<style scoped>\n",
       "    .dataframe tbody tr th:only-of-type {\n",
       "        vertical-align: middle;\n",
       "    }\n",
       "\n",
       "    .dataframe tbody tr th {\n",
       "        vertical-align: top;\n",
       "    }\n",
       "\n",
       "    .dataframe thead th {\n",
       "        text-align: right;\n",
       "    }\n",
       "</style>\n",
       "<table border=\"1\" class=\"dataframe\">\n",
       "  <thead>\n",
       "    <tr style=\"text-align: right;\">\n",
       "      <th></th>\n",
       "      <th>rewire_id</th>\n",
       "      <th>text</th>\n",
       "      <th>label_sexist</th>\n",
       "      <th>label_category</th>\n",
       "      <th>label_vector</th>\n",
       "    </tr>\n",
       "  </thead>\n",
       "  <tbody>\n",
       "    <tr>\n",
       "      <th>0</th>\n",
       "      <td>sexism2022_english-7358</td>\n",
       "      <td>Damn, this writing was pretty chaotic</td>\n",
       "      <td>not sexist</td>\n",
       "      <td>none</td>\n",
       "      <td>none</td>\n",
       "    </tr>\n",
       "    <tr>\n",
       "      <th>1</th>\n",
       "      <td>sexism2022_english-2367</td>\n",
       "      <td>Yeah, and apparently a bunch of misogynistic v...</td>\n",
       "      <td>not sexist</td>\n",
       "      <td>none</td>\n",
       "      <td>none</td>\n",
       "    </tr>\n",
       "    <tr>\n",
       "      <th>2</th>\n",
       "      <td>sexism2022_english-3073</td>\n",
       "      <td>How the FUCK is this woman still an MP!!!???</td>\n",
       "      <td>not sexist</td>\n",
       "      <td>none</td>\n",
       "      <td>none</td>\n",
       "    </tr>\n",
       "    <tr>\n",
       "      <th>3</th>\n",
       "      <td>sexism2022_english-14895</td>\n",
       "      <td>Understand. Know you're right. At same time I ...</td>\n",
       "      <td>not sexist</td>\n",
       "      <td>none</td>\n",
       "      <td>none</td>\n",
       "    </tr>\n",
       "    <tr>\n",
       "      <th>4</th>\n",
       "      <td>sexism2022_english-4118</td>\n",
       "      <td>Surprized they didn't stop and rape some women</td>\n",
       "      <td>not sexist</td>\n",
       "      <td>none</td>\n",
       "      <td>none</td>\n",
       "    </tr>\n",
       "    <tr>\n",
       "      <th>5</th>\n",
       "      <td>sexism2022_english-10376</td>\n",
       "      <td>yeah but in order to keep the benefit i have t...</td>\n",
       "      <td>not sexist</td>\n",
       "      <td>none</td>\n",
       "      <td>none</td>\n",
       "    </tr>\n",
       "    <tr>\n",
       "      <th>6</th>\n",
       "      <td>sexism2022_english-4569</td>\n",
       "      <td>Hahaha I just wish they would live their truth...</td>\n",
       "      <td>not sexist</td>\n",
       "      <td>none</td>\n",
       "      <td>none</td>\n",
       "    </tr>\n",
       "    <tr>\n",
       "      <th>7</th>\n",
       "      <td>sexism2022_english-91</td>\n",
       "      <td>head mod said she talked to him after he made ...</td>\n",
       "      <td>not sexist</td>\n",
       "      <td>none</td>\n",
       "      <td>none</td>\n",
       "    </tr>\n",
       "    <tr>\n",
       "      <th>8</th>\n",
       "      <td>sexism2022_english-10142</td>\n",
       "      <td>just the inside of your wallet: cash, bank car...</td>\n",
       "      <td>sexist</td>\n",
       "      <td>2. derogation</td>\n",
       "      <td>2.3 dehumanising attacks &amp; overt sexual object...</td>\n",
       "    </tr>\n",
       "    <tr>\n",
       "      <th>9</th>\n",
       "      <td>sexism2022_english-16316</td>\n",
       "      <td>We most definitely did. I didn’t go too much i...</td>\n",
       "      <td>not sexist</td>\n",
       "      <td>none</td>\n",
       "      <td>none</td>\n",
       "    </tr>\n",
       "  </tbody>\n",
       "</table>\n",
       "</div>"
      ],
      "text/plain": [
       "                  rewire_id  \\\n",
       "0   sexism2022_english-7358   \n",
       "1   sexism2022_english-2367   \n",
       "2   sexism2022_english-3073   \n",
       "3  sexism2022_english-14895   \n",
       "4   sexism2022_english-4118   \n",
       "5  sexism2022_english-10376   \n",
       "6   sexism2022_english-4569   \n",
       "7     sexism2022_english-91   \n",
       "8  sexism2022_english-10142   \n",
       "9  sexism2022_english-16316   \n",
       "\n",
       "                                                text label_sexist  \\\n",
       "0              Damn, this writing was pretty chaotic   not sexist   \n",
       "1  Yeah, and apparently a bunch of misogynistic v...   not sexist   \n",
       "2       How the FUCK is this woman still an MP!!!???   not sexist   \n",
       "3  Understand. Know you're right. At same time I ...   not sexist   \n",
       "4     Surprized they didn't stop and rape some women   not sexist   \n",
       "5  yeah but in order to keep the benefit i have t...   not sexist   \n",
       "6  Hahaha I just wish they would live their truth...   not sexist   \n",
       "7  head mod said she talked to him after he made ...   not sexist   \n",
       "8  just the inside of your wallet: cash, bank car...       sexist   \n",
       "9  We most definitely did. I didn’t go too much i...   not sexist   \n",
       "\n",
       "  label_category                                       label_vector  \n",
       "0           none                                               none  \n",
       "1           none                                               none  \n",
       "2           none                                               none  \n",
       "3           none                                               none  \n",
       "4           none                                               none  \n",
       "5           none                                               none  \n",
       "6           none                                               none  \n",
       "7           none                                               none  \n",
       "8  2. derogation  2.3 dehumanising attacks & overt sexual object...  \n",
       "9           none                                               none  "
      ]
     },
     "execution_count": 90,
     "metadata": {},
     "output_type": "execute_result"
    }
   ],
   "source": [
    "movie_reviews.head(10)"
   ]
  },
  {
   "cell_type": "code",
   "execution_count": 91,
   "id": "e74452fc",
   "metadata": {},
   "outputs": [
    {
     "data": {
      "text/plain": [
       "False"
      ]
     },
     "execution_count": 91,
     "metadata": {},
     "output_type": "execute_result"
    }
   ],
   "source": [
    "movie_reviews.isnull().values.any()"
   ]
  },
  {
   "cell_type": "code",
   "execution_count": 92,
   "id": "243a7710",
   "metadata": {},
   "outputs": [],
   "source": [
    "movie_reviews.drop(['rewire_id','label_category','label_vector'],axis=1,inplace=True)"
   ]
  },
  {
   "cell_type": "code",
   "execution_count": 93,
   "id": "eeb1624a",
   "metadata": {},
   "outputs": [
    {
     "data": {
      "text/html": [
       "<div>\n",
       "<style scoped>\n",
       "    .dataframe tbody tr th:only-of-type {\n",
       "        vertical-align: middle;\n",
       "    }\n",
       "\n",
       "    .dataframe tbody tr th {\n",
       "        vertical-align: top;\n",
       "    }\n",
       "\n",
       "    .dataframe thead th {\n",
       "        text-align: right;\n",
       "    }\n",
       "</style>\n",
       "<table border=\"1\" class=\"dataframe\">\n",
       "  <thead>\n",
       "    <tr style=\"text-align: right;\">\n",
       "      <th></th>\n",
       "      <th>text</th>\n",
       "      <th>label_sexist</th>\n",
       "    </tr>\n",
       "  </thead>\n",
       "  <tbody>\n",
       "    <tr>\n",
       "      <th>0</th>\n",
       "      <td>Damn, this writing was pretty chaotic</td>\n",
       "      <td>not sexist</td>\n",
       "    </tr>\n",
       "    <tr>\n",
       "      <th>1</th>\n",
       "      <td>Yeah, and apparently a bunch of misogynistic v...</td>\n",
       "      <td>not sexist</td>\n",
       "    </tr>\n",
       "    <tr>\n",
       "      <th>2</th>\n",
       "      <td>How the FUCK is this woman still an MP!!!???</td>\n",
       "      <td>not sexist</td>\n",
       "    </tr>\n",
       "    <tr>\n",
       "      <th>3</th>\n",
       "      <td>Understand. Know you're right. At same time I ...</td>\n",
       "      <td>not sexist</td>\n",
       "    </tr>\n",
       "    <tr>\n",
       "      <th>4</th>\n",
       "      <td>Surprized they didn't stop and rape some women</td>\n",
       "      <td>not sexist</td>\n",
       "    </tr>\n",
       "  </tbody>\n",
       "</table>\n",
       "</div>"
      ],
      "text/plain": [
       "                                                text label_sexist\n",
       "0              Damn, this writing was pretty chaotic   not sexist\n",
       "1  Yeah, and apparently a bunch of misogynistic v...   not sexist\n",
       "2       How the FUCK is this woman still an MP!!!???   not sexist\n",
       "3  Understand. Know you're right. At same time I ...   not sexist\n",
       "4     Surprized they didn't stop and rape some women   not sexist"
      ]
     },
     "execution_count": 93,
     "metadata": {},
     "output_type": "execute_result"
    }
   ],
   "source": [
    "movie_reviews.head(5)"
   ]
  },
  {
   "cell_type": "markdown",
   "id": "4a6cd895",
   "metadata": {},
   "source": [
    "# Preprocess"
   ]
  },
  {
   "cell_type": "code",
   "execution_count": 94,
   "id": "76ad9931",
   "metadata": {},
   "outputs": [
    {
     "data": {
      "text/plain": [
       "'How the FUCK is this woman still an MP!!!???'"
      ]
     },
     "execution_count": 94,
     "metadata": {},
     "output_type": "execute_result"
    }
   ],
   "source": [
    "movie_reviews[\"text\"][2]"
   ]
  },
  {
   "cell_type": "code",
   "execution_count": 95,
   "id": "af77d487",
   "metadata": {},
   "outputs": [],
   "source": [
    "TAG_RE = re.compile(r'<[^>]+>')\n",
    "\n",
    "def remove_tags(text):\n",
    "    '''Removes HTML tags: replaces anything between opening and closing <> with empty space'''\n",
    "\n",
    "    return TAG_RE.sub('', text)"
   ]
  },
  {
   "cell_type": "code",
   "execution_count": 96,
   "id": "0814a424",
   "metadata": {},
   "outputs": [
    {
     "name": "stderr",
     "output_type": "stream",
     "text": [
      "[nltk_data] Downloading package stopwords to\n",
      "[nltk_data]     C:\\Users\\User\\AppData\\Roaming\\nltk_data...\n",
      "[nltk_data]   Package stopwords is already up-to-date!\n"
     ]
    },
    {
     "data": {
      "text/plain": [
       "True"
      ]
     },
     "execution_count": 96,
     "metadata": {},
     "output_type": "execute_result"
    }
   ],
   "source": [
    "import nltk\n",
    "nltk.download('stopwords')"
   ]
  },
  {
   "cell_type": "code",
   "execution_count": 97,
   "id": "a968d851",
   "metadata": {},
   "outputs": [],
   "source": [
    "def preprocess_text(sen):\n",
    "    '''Cleans text data up, leaving only 2 or more char long non-stepwords composed of A-Z & a-z only\n",
    "    in lowercase'''\n",
    "    \n",
    "    sentence = sen.lower()\n",
    "\n",
    "    # Remove html tags\n",
    "    sentence = remove_tags(sentence)\n",
    "\n",
    "    # Remove punctuations and numbers\n",
    "    sentence = re.sub('[^a-zA-Z]', ' ', sentence)\n",
    "\n",
    "    # Single character removal\n",
    "    sentence = re.sub(r\"\\s+[a-zA-Z]\\s+\", ' ', sentence)  # When we remove apostrophe from the word \"Mark's\", the apostrophe is replaced by an empty space. Hence, we are left with single character \"s\" that we are removing here.\n",
    "\n",
    "    # Remove multiple spaces\n",
    "    sentence = re.sub(r'\\s+', ' ', sentence)  # Next, we remove all the single characters and replace it by a space which creates multiple spaces in our text. Finally, we remove the multiple spaces from our text as well.\n",
    "\n",
    "    # Remove Stopwords\n",
    "    pattern = re.compile(r'\\b(' + r'|'.join(stopwords.words('english')) + r')\\b\\s*')\n",
    "    sentence = pattern.sub('', sentence)\n",
    "\n",
    "    return sentence"
   ]
  },
  {
   "cell_type": "code",
   "execution_count": 98,
   "id": "f37fe212",
   "metadata": {},
   "outputs": [],
   "source": [
    "X = []\n",
    "sentences = list(movie_reviews['text'])\n",
    "for sen in sentences:\n",
    "    X.append(preprocess_text(sen))"
   ]
  },
  {
   "cell_type": "code",
   "execution_count": 99,
   "id": "edbe8833",
   "metadata": {},
   "outputs": [
    {
     "data": {
      "text/plain": [
       "'fuck woman still mp '"
      ]
     },
     "execution_count": 99,
     "metadata": {},
     "output_type": "execute_result"
    }
   ],
   "source": [
    "X[2]"
   ]
  },
  {
   "cell_type": "code",
   "execution_count": 100,
   "id": "74b2d08c",
   "metadata": {},
   "outputs": [],
   "source": [
    "y = movie_reviews['label_sexist']\n",
    "\n",
    "y = np.array(list(map(lambda x: 1 if x==\"not sexist\" else 0, y)))"
   ]
  },
  {
   "cell_type": "code",
   "execution_count": 101,
   "id": "cabc4e7f",
   "metadata": {},
   "outputs": [
    {
     "data": {
      "text/plain": [
       "array([1, 1, 1, ..., 1, 1, 1])"
      ]
     },
     "execution_count": 101,
     "metadata": {},
     "output_type": "execute_result"
    }
   ],
   "source": [
    "y"
   ]
  },
  {
   "cell_type": "code",
   "execution_count": 102,
   "id": "b4fceef3",
   "metadata": {},
   "outputs": [],
   "source": [
    "# new=pd.DataFrame(zip(X, y), columns=['text', 'label_sexist'])"
   ]
  },
  {
   "cell_type": "code",
   "execution_count": 103,
   "id": "7aeccacc",
   "metadata": {},
   "outputs": [],
   "source": [
    "# new.head(5)"
   ]
  },
  {
   "cell_type": "markdown",
   "id": "9331a797",
   "metadata": {},
   "source": [
    "# Balancing"
   ]
  },
  {
   "cell_type": "code",
   "execution_count": 104,
   "id": "cfbf3790",
   "metadata": {},
   "outputs": [],
   "source": [
    "# import seaborn as sns\n",
    "# sns.countplot(x='label_sexist', data=new)"
   ]
  },
  {
   "cell_type": "code",
   "execution_count": 105,
   "id": "487cb761",
   "metadata": {},
   "outputs": [],
   "source": [
    "# new['label_sexist'].value_counts()\n",
    "# #0 = not sexist 1= sexist"
   ]
  },
  {
   "cell_type": "code",
   "execution_count": 106,
   "id": "34ab83f3",
   "metadata": {},
   "outputs": [],
   "source": [
    "# df_1 = new[new['label_sexist'] == 0].iloc[0: 3398, :]"
   ]
  },
  {
   "cell_type": "code",
   "execution_count": 107,
   "id": "79f7c1c4",
   "metadata": {},
   "outputs": [],
   "source": [
    "# df_2 = new[new['label_sexist'] == 1].iloc[0: 3398, :]"
   ]
  },
  {
   "cell_type": "code",
   "execution_count": 108,
   "id": "0715c19c",
   "metadata": {},
   "outputs": [],
   "source": [
    "# balanced = pd.concat([df_1,df_2])"
   ]
  },
  {
   "cell_type": "code",
   "execution_count": 109,
   "id": "4dee2243",
   "metadata": {},
   "outputs": [],
   "source": [
    "# balanced['label_sexist'].value_counts()"
   ]
  },
  {
   "cell_type": "code",
   "execution_count": 110,
   "id": "c418fbb8",
   "metadata": {},
   "outputs": [],
   "source": [
    "# X = balanced.drop('label_sexist',axis='columns')\n",
    "# y = balanced['label_sexist']"
   ]
  },
  {
   "cell_type": "code",
   "execution_count": 176,
   "id": "c3888686",
   "metadata": {},
   "outputs": [],
   "source": [
    "X_train, X_test, y_train, y_test = train_test_split(X, y, test_size=0.20, random_state=42)"
   ]
  },
  {
   "cell_type": "code",
   "execution_count": 177,
   "id": "ca678ed6",
   "metadata": {},
   "outputs": [],
   "source": [
    "vectorizer = CountVectorizer()\n",
    "vectorizer.fit(X_train);"
   ]
  },
  {
   "cell_type": "code",
   "execution_count": 178,
   "id": "8ae90b0d",
   "metadata": {},
   "outputs": [],
   "source": [
    "x_train = vectorizer.transform(X_train)\n",
    "x_test = vectorizer.transform(X_test)"
   ]
  },
  {
   "cell_type": "code",
   "execution_count": 179,
   "id": "1e820ce7",
   "metadata": {},
   "outputs": [],
   "source": [
    "from sklearn.neighbors import KNeighborsClassifier\n",
    "from sklearn.naive_bayes import BernoulliNB\n",
    "from sklearn.svm import LinearSVC\n",
    "from sklearn.ensemble import RandomForestClassifier"
   ]
  },
  {
   "cell_type": "code",
   "execution_count": 180,
   "id": "9ec2114b",
   "metadata": {},
   "outputs": [
    {
     "data": {
      "text/plain": [
       "LogisticRegression(max_iter=1000)"
      ]
     },
     "execution_count": 180,
     "metadata": {},
     "output_type": "execute_result"
    }
   ],
   "source": [
    "### Machine learning models\n",
    "## Logistic regression\n",
    "lr = LogisticRegression(max_iter=1000)\n",
    "lr.fit(x_train, y_train)"
   ]
  },
  {
   "cell_type": "code",
   "execution_count": 181,
   "id": "8097477f",
   "metadata": {},
   "outputs": [
    {
     "data": {
      "text/plain": [
       "KNeighborsClassifier()"
      ]
     },
     "execution_count": 181,
     "metadata": {},
     "output_type": "execute_result"
    }
   ],
   "source": [
    "#k-nearest neighbours\n",
    "knn = KNeighborsClassifier(n_neighbors =5)\n",
    "knn.fit(x_train, y_train)"
   ]
  },
  {
   "cell_type": "code",
   "execution_count": 182,
   "id": "6f49c62a",
   "metadata": {},
   "outputs": [
    {
     "data": {
      "text/plain": [
       "BernoulliNB()"
      ]
     },
     "execution_count": 182,
     "metadata": {},
     "output_type": "execute_result"
    }
   ],
   "source": [
    "##Naive Bayes I\n",
    "bnb = BernoulliNB()\n",
    "bnb.fit(x_train, y_train)"
   ]
  },
  {
   "cell_type": "code",
   "execution_count": 183,
   "id": "8fc28754",
   "metadata": {},
   "outputs": [
    {
     "data": {
      "text/plain": [
       "MultinomialNB()"
      ]
     },
     "execution_count": 183,
     "metadata": {},
     "output_type": "execute_result"
    }
   ],
   "source": [
    "## Multinomial naive bayes\n",
    "mnb = MultinomialNB ()\n",
    "mnb.fit(x_train, y_train)"
   ]
  },
  {
   "cell_type": "code",
   "execution_count": 184,
   "id": "3c58cff7",
   "metadata": {},
   "outputs": [
    {
     "data": {
      "text/plain": [
       "LinearSVC()"
      ]
     },
     "execution_count": 184,
     "metadata": {},
     "output_type": "execute_result"
    }
   ],
   "source": [
    "### Support vector machine\n",
    "svm_model = LinearSVC()\n",
    "svm_model.fit(x_train, y_train)"
   ]
  },
  {
   "cell_type": "code",
   "execution_count": 185,
   "id": "43efaf4b",
   "metadata": {},
   "outputs": [
    {
     "data": {
      "text/plain": [
       "RandomForestClassifier(random_state=50)"
      ]
     },
     "execution_count": 185,
     "metadata": {},
     "output_type": "execute_result"
    }
   ],
   "source": [
    "### Random Forest\n",
    "randomforest = RandomForestClassifier(n_estimators=100, random_state=50)\n",
    "randomforest.fit(x_train, y_train)"
   ]
  },
  {
   "cell_type": "code",
   "execution_count": 186,
   "id": "d019f96e",
   "metadata": {},
   "outputs": [
    {
     "data": {
      "text/html": [
       "<div>\n",
       "<style scoped>\n",
       "    .dataframe tbody tr th:only-of-type {\n",
       "        vertical-align: middle;\n",
       "    }\n",
       "\n",
       "    .dataframe tbody tr th {\n",
       "        vertical-align: top;\n",
       "    }\n",
       "\n",
       "    .dataframe thead th {\n",
       "        text-align: right;\n",
       "    }\n",
       "</style>\n",
       "<table border=\"1\" class=\"dataframe\">\n",
       "  <thead>\n",
       "    <tr style=\"text-align: right;\">\n",
       "      <th></th>\n",
       "      <th>F1 Score</th>\n",
       "    </tr>\n",
       "  </thead>\n",
       "  <tbody>\n",
       "    <tr>\n",
       "      <th>Log Regression</th>\n",
       "      <td>0.881851</td>\n",
       "    </tr>\n",
       "    <tr>\n",
       "      <th>KNN</th>\n",
       "      <td>0.855666</td>\n",
       "    </tr>\n",
       "    <tr>\n",
       "      <th>BernoulliNB</th>\n",
       "      <td>0.867957</td>\n",
       "    </tr>\n",
       "    <tr>\n",
       "      <th>MultinomialNB</th>\n",
       "      <td>0.877100</td>\n",
       "    </tr>\n",
       "    <tr>\n",
       "      <th>SVM</th>\n",
       "      <td>0.862061</td>\n",
       "    </tr>\n",
       "    <tr>\n",
       "      <th>Random Forest</th>\n",
       "      <td>0.893543</td>\n",
       "    </tr>\n",
       "  </tbody>\n",
       "</table>\n",
       "</div>"
      ],
      "text/plain": [
       "                F1 Score\n",
       "Log Regression  0.881851\n",
       "KNN             0.855666\n",
       "BernoulliNB     0.867957\n",
       "MultinomialNB   0.877100\n",
       "SVM             0.862061\n",
       "Random Forest   0.893543"
      ]
     },
     "execution_count": 186,
     "metadata": {},
     "output_type": "execute_result"
    }
   ],
   "source": [
    "from sklearn.metrics import f1_score\n",
    "f1_score_data = {'F1 Score': [f1_score(lr.predict(x_test), y_test),\n",
    "                              f1_score(knn.predict(x_test), y_test),\n",
    "                              f1_score(bnb.predict(x_test), y_test),\n",
    "                              f1_score(mnb.predict(x_test), y_test),\n",
    "                              f1_score(svm_model.predict(x_test), y_test),\n",
    "                              f1_score(randomforest.predict(x_test), y_test)]}\n",
    "##Saving fi score results into a dataframe\n",
    "df_f1=pd.DataFrame(f1_score_data, index=['Log Regression', 'KNN', 'BernoulliNB', 'MultinomialNB', 'SVM', 'Random Forest'])\n",
    "df_f1\n"
   ]
  },
  {
   "cell_type": "markdown",
   "id": "270e9ce3",
   "metadata": {},
   "source": [
    "# For DL part"
   ]
  },
  {
   "cell_type": "code",
   "execution_count": 187,
   "id": "8bba536b",
   "metadata": {},
   "outputs": [],
   "source": [
    "word_tokenizer = Tokenizer()\n",
    "word_tokenizer.fit_on_texts(X_train)\n",
    "\n",
    "X_train = word_tokenizer.texts_to_sequences(X_train)\n",
    "X_test = word_tokenizer.texts_to_sequences(X_test)"
   ]
  },
  {
   "cell_type": "code",
   "execution_count": 188,
   "id": "b03d7724",
   "metadata": {},
   "outputs": [
    {
     "data": {
      "text/plain": [
       "18178"
      ]
     },
     "execution_count": 188,
     "metadata": {},
     "output_type": "execute_result"
    }
   ],
   "source": [
    "vocab_length = len(word_tokenizer.word_index) + 1\n",
    "\n",
    "vocab_length"
   ]
  },
  {
   "cell_type": "code",
   "execution_count": 189,
   "id": "317884a1",
   "metadata": {},
   "outputs": [],
   "source": [
    "maxlen = 100\n",
    "\n",
    "X_train = pad_sequences(X_train, padding='post', maxlen=maxlen)\n",
    "X_test = pad_sequences(X_test, padding='post', maxlen=maxlen)"
   ]
  },
  {
   "cell_type": "code",
   "execution_count": 190,
   "id": "7454882a",
   "metadata": {},
   "outputs": [],
   "source": [
    "from numpy import asarray\n",
    "from numpy import zeros\n",
    "\n",
    "embeddings_dictionary = dict()\n",
    "glove_file = open('glove.6B.100d.txt', encoding=\"utf8\")\n",
    "\n",
    "for line in glove_file:\n",
    "    records = line.split()\n",
    "    word = records[0]\n",
    "    vector_dimensions = asarray(records[1:], dtype='float32')\n",
    "    embeddings_dictionary [word] = vector_dimensions\n",
    "glove_file.close()"
   ]
  },
  {
   "cell_type": "code",
   "execution_count": 191,
   "id": "2eb23250",
   "metadata": {},
   "outputs": [],
   "source": [
    "embedding_matrix = zeros((vocab_length, 100))\n",
    "for word, index in word_tokenizer.word_index.items():\n",
    "    embedding_vector = embeddings_dictionary.get(word)\n",
    "    if embedding_vector is not None:\n",
    "        embedding_matrix[index] = embedding_vector"
   ]
  },
  {
   "cell_type": "code",
   "execution_count": 192,
   "id": "f7fa0569",
   "metadata": {},
   "outputs": [
    {
     "data": {
      "text/plain": [
       "(18178, 100)"
      ]
     },
     "execution_count": 192,
     "metadata": {},
     "output_type": "execute_result"
    }
   ],
   "source": [
    "embedding_matrix.shape"
   ]
  },
  {
   "cell_type": "code",
   "execution_count": 193,
   "id": "1331a82d",
   "metadata": {},
   "outputs": [],
   "source": [
    "# Neural Network architecture\n",
    "snn_model = Sequential()\n",
    "embedding_layer = Embedding(vocab_length, 100, weights=[embedding_matrix], input_length=maxlen , trainable=False)\n",
    "\n",
    "snn_model.add(embedding_layer)\n",
    "snn_model.add(LSTM(64, dropout=0.2, recurrent_dropout=0.2))\n",
    "snn_model.add(Dense(1, activation='sigmoid'))"
   ]
  },
  {
   "cell_type": "code",
   "execution_count": 194,
   "id": "4519ed38",
   "metadata": {},
   "outputs": [
    {
     "name": "stdout",
     "output_type": "stream",
     "text": [
      "Model: \"sequential_2\"\n",
      "_________________________________________________________________\n",
      " Layer (type)                Output Shape              Param #   \n",
      "=================================================================\n",
      " embedding_2 (Embedding)     (None, 100, 100)          1817800   \n",
      "                                                                 \n",
      " lstm_2 (LSTM)               (None, 64)                42240     \n",
      "                                                                 \n",
      " dense_2 (Dense)             (None, 1)                 65        \n",
      "                                                                 \n",
      "=================================================================\n",
      "Total params: 1,860,105\n",
      "Trainable params: 42,305\n",
      "Non-trainable params: 1,817,800\n",
      "_________________________________________________________________\n",
      "None\n"
     ]
    }
   ],
   "source": [
    "# Model compiling\n",
    "\n",
    "snn_model.compile(optimizer='adam', loss='binary_crossentropy', metrics=['acc'])\n",
    "\n",
    "print(snn_model.summary())"
   ]
  },
  {
   "cell_type": "code",
   "execution_count": 197,
   "id": "164b179c",
   "metadata": {},
   "outputs": [
    {
     "name": "stdout",
     "output_type": "stream",
     "text": [
      "Epoch 1/50\n",
      "70/70 [==============================] - 15s 207ms/step - loss: 0.4393 - acc: 0.7798 - val_loss: 0.4704 - val_acc: 0.7969\n",
      "Epoch 2/50\n",
      "70/70 [==============================] - 14s 207ms/step - loss: 0.4321 - acc: 0.8119 - val_loss: 0.4628 - val_acc: 0.7964\n",
      "Epoch 3/50\n",
      "70/70 [==============================] - 19s 273ms/step - loss: 0.4123 - acc: 0.8235 - val_loss: 0.4311 - val_acc: 0.8147\n",
      "Epoch 4/50\n",
      "70/70 [==============================] - 21s 299ms/step - loss: 0.4064 - acc: 0.8334 - val_loss: 0.4181 - val_acc: 0.8232\n",
      "Epoch 5/50\n",
      "70/70 [==============================] - 21s 302ms/step - loss: 0.3981 - acc: 0.8299 - val_loss: 0.4301 - val_acc: 0.8152\n",
      "Epoch 6/50\n",
      "70/70 [==============================] - 19s 266ms/step - loss: 0.3895 - acc: 0.8327 - val_loss: 0.4168 - val_acc: 0.8223\n",
      "Epoch 7/50\n",
      "70/70 [==============================] - 15s 214ms/step - loss: 0.3858 - acc: 0.8298 - val_loss: 0.4198 - val_acc: 0.8228\n",
      "Epoch 8/50\n",
      "70/70 [==============================] - 19s 278ms/step - loss: 0.3757 - acc: 0.8444 - val_loss: 0.4121 - val_acc: 0.8295\n",
      "Epoch 9/50\n",
      "70/70 [==============================] - 16s 227ms/step - loss: 0.3686 - acc: 0.8442 - val_loss: 0.4269 - val_acc: 0.8281\n",
      "Epoch 10/50\n",
      "70/70 [==============================] - 15s 219ms/step - loss: 0.3646 - acc: 0.8459 - val_loss: 0.4068 - val_acc: 0.8281\n",
      "Epoch 11/50\n",
      "70/70 [==============================] - 15s 218ms/step - loss: 0.3655 - acc: 0.8439 - val_loss: 0.4112 - val_acc: 0.8152\n",
      "Epoch 12/50\n",
      "70/70 [==============================] - 15s 218ms/step - loss: 0.3576 - acc: 0.8508 - val_loss: 0.4007 - val_acc: 0.8295\n",
      "Epoch 13/50\n",
      "70/70 [==============================] - 17s 239ms/step - loss: 0.3598 - acc: 0.8479 - val_loss: 0.4352 - val_acc: 0.8188\n",
      "Epoch 14/50\n",
      "70/70 [==============================] - 17s 238ms/step - loss: 0.3458 - acc: 0.8533 - val_loss: 0.4355 - val_acc: 0.7946\n",
      "Epoch 15/50\n",
      "70/70 [==============================] - 16s 223ms/step - loss: 0.3583 - acc: 0.8441 - val_loss: 0.4379 - val_acc: 0.8272\n",
      "Epoch 16/50\n",
      "70/70 [==============================] - 15s 220ms/step - loss: 0.3599 - acc: 0.8445 - val_loss: 0.4114 - val_acc: 0.8286\n",
      "Epoch 17/50\n",
      "70/70 [==============================] - 16s 232ms/step - loss: 0.3530 - acc: 0.8566 - val_loss: 0.4143 - val_acc: 0.8268\n",
      "Epoch 18/50\n",
      "70/70 [==============================] - 16s 228ms/step - loss: 0.3401 - acc: 0.8612 - val_loss: 0.4252 - val_acc: 0.7987\n",
      "Epoch 19/50\n",
      "70/70 [==============================] - 15s 218ms/step - loss: 0.3294 - acc: 0.8622 - val_loss: 0.4311 - val_acc: 0.8326\n",
      "Epoch 20/50\n",
      "70/70 [==============================] - 15s 216ms/step - loss: 0.3212 - acc: 0.8676 - val_loss: 0.4417 - val_acc: 0.8094\n",
      "Epoch 21/50\n",
      "70/70 [==============================] - 15s 216ms/step - loss: 0.3170 - acc: 0.8674 - val_loss: 0.4237 - val_acc: 0.8295\n",
      "Epoch 22/50\n",
      "70/70 [==============================] - 15s 217ms/step - loss: 0.3161 - acc: 0.8708 - val_loss: 0.4387 - val_acc: 0.8254\n",
      "Epoch 23/50\n",
      "70/70 [==============================] - 15s 217ms/step - loss: 0.3488 - acc: 0.8546 - val_loss: 0.4327 - val_acc: 0.8268\n",
      "Epoch 24/50\n",
      "70/70 [==============================] - 15s 219ms/step - loss: 0.3424 - acc: 0.8613 - val_loss: 0.4421 - val_acc: 0.8161\n",
      "Epoch 25/50\n",
      "70/70 [==============================] - 16s 227ms/step - loss: 0.3190 - acc: 0.8705 - val_loss: 0.4090 - val_acc: 0.8268\n",
      "Epoch 26/50\n",
      "70/70 [==============================] - 17s 243ms/step - loss: 0.3014 - acc: 0.8790 - val_loss: 0.4253 - val_acc: 0.8290\n",
      "Epoch 27/50\n",
      "70/70 [==============================] - 16s 229ms/step - loss: 0.3008 - acc: 0.8807 - val_loss: 0.4660 - val_acc: 0.8205\n",
      "Epoch 28/50\n",
      "70/70 [==============================] - 16s 223ms/step - loss: 0.3080 - acc: 0.8771 - val_loss: 0.4512 - val_acc: 0.8192\n",
      "Epoch 29/50\n",
      "70/70 [==============================] - 15s 218ms/step - loss: 0.3039 - acc: 0.8809 - val_loss: 0.4850 - val_acc: 0.8268\n",
      "Epoch 30/50\n",
      "70/70 [==============================] - 19s 275ms/step - loss: 0.2882 - acc: 0.8877 - val_loss: 0.4516 - val_acc: 0.8228\n",
      "Epoch 31/50\n",
      "70/70 [==============================] - 16s 228ms/step - loss: 0.2921 - acc: 0.8865 - val_loss: 0.4648 - val_acc: 0.8192\n",
      "Epoch 32/50\n",
      "70/70 [==============================] - 17s 244ms/step - loss: 0.2873 - acc: 0.8873 - val_loss: 0.4639 - val_acc: 0.8152\n",
      "Epoch 33/50\n",
      "70/70 [==============================] - 15s 220ms/step - loss: 0.2907 - acc: 0.8848 - val_loss: 0.4701 - val_acc: 0.8067\n",
      "Epoch 34/50\n",
      "70/70 [==============================] - 16s 224ms/step - loss: 0.2740 - acc: 0.8939 - val_loss: 0.4568 - val_acc: 0.8210\n",
      "Epoch 35/50\n",
      "70/70 [==============================] - 16s 229ms/step - loss: 0.2719 - acc: 0.8943 - val_loss: 0.4593 - val_acc: 0.8272\n",
      "Epoch 36/50\n",
      "70/70 [==============================] - 16s 223ms/step - loss: 0.2693 - acc: 0.8972 - val_loss: 0.4290 - val_acc: 0.8263\n",
      "Epoch 37/50\n",
      "70/70 [==============================] - 15s 218ms/step - loss: 0.2737 - acc: 0.8935 - val_loss: 0.4459 - val_acc: 0.8246\n",
      "Epoch 38/50\n",
      "70/70 [==============================] - 16s 226ms/step - loss: 0.2579 - acc: 0.9022 - val_loss: 0.4751 - val_acc: 0.8022\n",
      "Epoch 39/50\n",
      "70/70 [==============================] - 16s 233ms/step - loss: 0.2530 - acc: 0.9019 - val_loss: 0.4578 - val_acc: 0.8201\n",
      "Epoch 40/50\n",
      "70/70 [==============================] - 15s 220ms/step - loss: 0.2537 - acc: 0.9035 - val_loss: 0.4509 - val_acc: 0.8174\n",
      "Epoch 41/50\n",
      "70/70 [==============================] - 16s 226ms/step - loss: 0.2457 - acc: 0.9069 - val_loss: 0.5182 - val_acc: 0.8210\n",
      "Epoch 42/50\n",
      "70/70 [==============================] - 16s 224ms/step - loss: 0.2588 - acc: 0.9040 - val_loss: 0.5176 - val_acc: 0.8134\n",
      "Epoch 43/50\n",
      "70/70 [==============================] - 15s 219ms/step - loss: 0.2534 - acc: 0.9022 - val_loss: 0.4517 - val_acc: 0.8170\n",
      "Epoch 44/50\n",
      "70/70 [==============================] - 15s 220ms/step - loss: 0.2350 - acc: 0.9142 - val_loss: 0.5429 - val_acc: 0.8103\n",
      "Epoch 45/50\n",
      "70/70 [==============================] - 16s 233ms/step - loss: 0.2391 - acc: 0.9100 - val_loss: 0.4676 - val_acc: 0.8152\n",
      "Epoch 46/50\n",
      "70/70 [==============================] - 16s 235ms/step - loss: 0.2295 - acc: 0.9172 - val_loss: 0.5012 - val_acc: 0.8192\n",
      "Epoch 47/50\n",
      "70/70 [==============================] - 15s 217ms/step - loss: 0.2325 - acc: 0.9140 - val_loss: 0.4623 - val_acc: 0.8228\n",
      "Epoch 48/50\n",
      "70/70 [==============================] - 15s 217ms/step - loss: 0.2226 - acc: 0.9170 - val_loss: 0.4987 - val_acc: 0.8152\n",
      "Epoch 49/50\n",
      "70/70 [==============================] - 16s 229ms/step - loss: 0.2310 - acc: 0.9181 - val_loss: 0.5248 - val_acc: 0.8004\n",
      "Epoch 50/50\n",
      "70/70 [==============================] - 16s 225ms/step - loss: 0.2210 - acc: 0.9244 - val_loss: 0.5371 - val_acc: 0.8125\n"
     ]
    }
   ],
   "source": [
    "# Model training\n",
    "\n",
    "snn_model_history = snn_model.fit(X_train, y_train, batch_size=128, epochs=50, verbose=1, validation_split=0.2)"
   ]
  },
  {
   "cell_type": "code",
   "execution_count": 220,
   "id": "0dc5a906",
   "metadata": {},
   "outputs": [
    {
     "name": "stdout",
     "output_type": "stream",
     "text": [
      "88/88 [==============================] - 1s 17ms/step\n"
     ]
    },
    {
     "data": {
      "text/plain": [
       "0.8733115975780158"
      ]
     },
     "execution_count": 220,
     "metadata": {},
     "output_type": "execute_result"
    }
   ],
   "source": [
    "predictions = (snn_model.predict(X_test) > 0.5).astype(\"int32\")\n",
    "lstmf1=f1_score(y_test,predictions)\n",
    "lstmf1"
   ]
  },
  {
   "cell_type": "code",
   "execution_count": 205,
   "id": "07b63c06",
   "metadata": {},
   "outputs": [
    {
     "data": {
      "text/plain": [
       "Text(0.5, 1.0, 'Accuracy')"
      ]
     },
     "execution_count": 205,
     "metadata": {},
     "output_type": "execute_result"
    },
    {
     "data": {
      "image/png": "[encoded data removed]",
      "text/plain": [
       "<Figure size 1080x504 with 1 Axes>"
      ]
     },
     "metadata": {
      "needs_background": "light"
     },
     "output_type": "display_data"
    }
   ],
   "source": [
    "import matplotlib.pyplot as plt\n",
    "plt.figure(figsize=(15, 7))\n",
    "plt.plot(range(50), snn_model_history.history['acc'])\n",
    "plt.plot(range(50), snn_model_history.history['val_acc'])\n",
    "plt.legend(['training_acc', 'validation_acc'])\n",
    "plt.title('Accuracy')"
   ]
  },
  {
   "cell_type": "code",
   "execution_count": 209,
   "id": "f391a62e",
   "metadata": {},
   "outputs": [
    {
     "name": "stdout",
     "output_type": "stream",
     "text": [
      "Model: \"sequential_5\"\n",
      "_________________________________________________________________\n",
      " Layer (type)                Output Shape              Param #   \n",
      "=================================================================\n",
      " embedding_4 (Embedding)     (None, None, 100)         1817800   \n",
      "                                                                 \n",
      " gru (GRU)                   (None, 128)               88320     \n",
      "                                                                 \n",
      " dropout (Dropout)           (None, 128)               0         \n",
      "                                                                 \n",
      " dense_3 (Dense)             (None, 1)                 129       \n",
      "                                                                 \n",
      "=================================================================\n",
      "Total params: 1,906,249\n",
      "Trainable params: 88,449\n",
      "Non-trainable params: 1,817,800\n",
      "_________________________________________________________________\n",
      "None\n"
     ]
    }
   ],
   "source": [
    "emb_dim = embedding_matrix.shape[1]\n",
    "gru_model = Sequential()\n",
    "gru_model.add(Embedding(vocab_length, emb_dim, trainable = False, weights=[embedding_matrix]))\n",
    "# embedding_layer = Embedding(vocab_length, 100, weights=[embedding_matrix], input_length=maxlen , trainable=False)\n",
    "gru_model.add(GRU(128, return_sequences=False))\n",
    "gru_model.add(Dropout(0.5))\n",
    "gru_model.add(Dense(1, activation = 'sigmoid'))\n",
    "gru_model.compile(loss='binary_crossentropy', optimizer='adam', metrics=['accuracy'])\n",
    "print(gru_model.summary())"
   ]
  },
  {
   "cell_type": "code",
   "execution_count": 214,
   "id": "d96d0ae3",
   "metadata": {},
   "outputs": [
    {
     "name": "stdout",
     "output_type": "stream",
     "text": [
      "Epoch 1/10\n",
      "70/70 [==============================] - 28s 397ms/step - loss: 0.5507 - accuracy: 0.7619 - val_loss: 0.5631 - val_accuracy: 0.7496\n",
      "Epoch 2/10\n",
      "70/70 [==============================] - 28s 396ms/step - loss: 0.5501 - accuracy: 0.7619 - val_loss: 0.5629 - val_accuracy: 0.7496\n",
      "Epoch 3/10\n",
      "70/70 [==============================] - 28s 403ms/step - loss: 0.5506 - accuracy: 0.7619 - val_loss: 0.5628 - val_accuracy: 0.7496\n",
      "Epoch 4/10\n",
      "70/70 [==============================] - 28s 404ms/step - loss: 0.5511 - accuracy: 0.7619 - val_loss: 0.5630 - val_accuracy: 0.7496\n",
      "Epoch 5/10\n",
      "70/70 [==============================] - 30s 430ms/step - loss: 0.5507 - accuracy: 0.7619 - val_loss: 0.5631 - val_accuracy: 0.7496\n",
      "Epoch 6/10\n",
      "70/70 [==============================] - 27s 389ms/step - loss: 0.5502 - accuracy: 0.7619 - val_loss: 0.5633 - val_accuracy: 0.7496\n",
      "Epoch 7/10\n",
      "70/70 [==============================] - 27s 388ms/step - loss: 0.5504 - accuracy: 0.7619 - val_loss: 0.5631 - val_accuracy: 0.7496\n",
      "Epoch 8/10\n",
      "70/70 [==============================] - 28s 394ms/step - loss: 0.5512 - accuracy: 0.7619 - val_loss: 0.5630 - val_accuracy: 0.7496\n",
      "Epoch 9/10\n",
      "70/70 [==============================] - 27s 387ms/step - loss: 0.5502 - accuracy: 0.7619 - val_loss: 0.5632 - val_accuracy: 0.7496\n",
      "Epoch 10/10\n",
      "70/70 [==============================] - 29s 411ms/step - loss: 0.5511 - accuracy: 0.7619 - val_loss: 0.5629 - val_accuracy: 0.7496\n"
     ]
    }
   ],
   "source": [
    "history = gru_model.fit(X_train, y_train, batch_size=128, epochs=10, verbose=1, validation_split=0.2)"
   ]
  },
  {
   "cell_type": "code",
   "execution_count": 222,
   "id": "7ddd892c",
   "metadata": {},
   "outputs": [
    {
     "name": "stdout",
     "output_type": "stream",
     "text": [
      "88/88 [==============================] - 2s 22ms/step\n"
     ]
    },
    {
     "data": {
      "text/plain": [
       "0.8562091503267973"
      ]
     },
     "execution_count": 222,
     "metadata": {},
     "output_type": "execute_result"
    }
   ],
   "source": [
    "predictions = (gru_model.predict(X_test) > 0.5).astype(\"int32\")\n",
    "gruf1=f1_score(y_test,predictions)\n",
    "gruf1"
   ]
  },
  {
   "cell_type": "code",
   "execution_count": 217,
   "id": "aef1fcd3",
   "metadata": {},
   "outputs": [
    {
     "data": {
      "text/plain": [
       "Text(0.5, 1.0, 'Accuracy')"
      ]
     },
     "execution_count": 217,
     "metadata": {},
     "output_type": "execute_result"
    },
    {
     "data": {
      "image/png": "[encoded data removed]",
      "text/plain": [
       "<Figure size 1080x504 with 1 Axes>"
      ]
     },
     "metadata": {
      "needs_background": "light"
     },
     "output_type": "display_data"
    }
   ],
   "source": [
    "import matplotlib.pyplot as plt\n",
    "plt.figure(figsize=(15, 7))\n",
    "plt.plot(range(10), history.history['accuracy'])\n",
    "plt.plot(range(10), history.history['val_accuracy'])\n",
    "plt.legend(['training_acc', 'validation_acc'])\n",
    "plt.title('Accuracy')"
   ]
  },
  {
   "cell_type": "code",
   "execution_count": 226,
   "id": "96b6fb19",
   "metadata": {},
   "outputs": [
    {
     "name": "stdout",
     "output_type": "stream",
     "text": [
      "Model: \"sequential_7\"\n",
      "_________________________________________________________________\n",
      " Layer (type)                Output Shape              Param #   \n",
      "=================================================================\n",
      " embedding_6 (Embedding)     (None, 100, 100)          1817800   \n",
      "                                                                 \n",
      " bidirectional (Bidirectiona  (None, 256)              234496    \n",
      " l)                                                              \n",
      "                                                                 \n",
      " dropout_1 (Dropout)         (None, 256)               0         \n",
      "                                                                 \n",
      " dense_4 (Dense)             (None, 1)                 257       \n",
      "                                                                 \n",
      "=================================================================\n",
      "Total params: 2,052,553\n",
      "Trainable params: 234,753\n",
      "Non-trainable params: 1,817,800\n",
      "_________________________________________________________________\n"
     ]
    }
   ],
   "source": [
    "model2 = Sequential()\n",
    "model2.add(Embedding(vocab_length, 100, weights=[embedding_matrix], input_length=maxlen , trainable=False))\n",
    "model2.add(Bidirectional(LSTM(128,return_sequences = False)))\n",
    "model2.add(Dropout(0.2))\n",
    "model2.add(Dense(1, activation='sigmoid'))\n",
    "model2.compile(loss = 'binary_crossentropy',\n",
    "               optimizer = 'adam',\n",
    "               metrics=['accuracy'])\n",
    "model2.summary()"
   ]
  },
  {
   "cell_type": "code",
   "execution_count": 229,
   "id": "0d64cbeb",
   "metadata": {},
   "outputs": [
    {
     "name": "stdout",
     "output_type": "stream",
     "text": [
      "Epoch 1/10\n",
      "70/70 [==============================] - 68s 948ms/step - loss: 0.5329 - accuracy: 0.7603 - val_loss: 0.5016 - val_accuracy: 0.7652\n",
      "Epoch 2/10\n",
      "70/70 [==============================] - 84s 1s/step - loss: 0.4802 - accuracy: 0.7749 - val_loss: 0.4752 - val_accuracy: 0.7817\n",
      "Epoch 3/10\n",
      "70/70 [==============================] - 93s 1s/step - loss: 0.4495 - accuracy: 0.7962 - val_loss: 0.4579 - val_accuracy: 0.7933\n",
      "Epoch 4/10\n",
      "70/70 [==============================] - 111s 2s/step - loss: 0.4127 - accuracy: 0.8194 - val_loss: 0.4312 - val_accuracy: 0.8170\n",
      "Epoch 5/10\n",
      "70/70 [==============================] - 96s 1s/step - loss: 0.3940 - accuracy: 0.8314 - val_loss: 0.4207 - val_accuracy: 0.8214\n",
      "Epoch 6/10\n",
      "70/70 [==============================] - 77s 1s/step - loss: 0.3760 - accuracy: 0.8379 - val_loss: 0.4182 - val_accuracy: 0.8246\n",
      "Epoch 7/10\n",
      "70/70 [==============================] - 71s 1s/step - loss: 0.3626 - accuracy: 0.8432 - val_loss: 0.4219 - val_accuracy: 0.8237\n",
      "Epoch 8/10\n",
      "70/70 [==============================] - 103s 1s/step - loss: 0.3488 - accuracy: 0.8511 - val_loss: 0.4423 - val_accuracy: 0.8223\n",
      "Epoch 9/10\n",
      "70/70 [==============================] - 98s 1s/step - loss: 0.3326 - accuracy: 0.8623 - val_loss: 0.4316 - val_accuracy: 0.8201\n",
      "Epoch 10/10\n",
      "70/70 [==============================] - 82s 1s/step - loss: 0.3146 - accuracy: 0.8648 - val_loss: 0.4376 - val_accuracy: 0.8210\n"
     ]
    }
   ],
   "source": [
    "bi_lstm = model2.fit(X_train, y_train, batch_size=128, epochs=10, verbose=1, validation_split=0.2)"
   ]
  },
  {
   "cell_type": "code",
   "execution_count": 230,
   "id": "5adca015",
   "metadata": {},
   "outputs": [
    {
     "name": "stdout",
     "output_type": "stream",
     "text": [
      "88/88 [==============================] - 6s 65ms/step\n"
     ]
    },
    {
     "data": {
      "text/plain": [
       "0.8855699538765649"
      ]
     },
     "execution_count": 230,
     "metadata": {},
     "output_type": "execute_result"
    }
   ],
   "source": [
    "predictions = (model2.predict(X_test) > 0.5).astype(\"int32\")\n",
    "bilstmf1=f1_score(y_test,predictions)\n",
    "bilstmf1"
   ]
  },
  {
   "cell_type": "code",
   "execution_count": 231,
   "id": "23746607",
   "metadata": {},
   "outputs": [
    {
     "data": {
      "text/plain": [
       "Text(0.5, 1.0, 'Accuracy')"
      ]
     },
     "execution_count": 231,
     "metadata": {},
     "output_type": "execute_result"
    },
    {
     "data": {
      "image/png": "[encoded data removed]",
      "text/plain": [
       "<Figure size 1080x504 with 1 Axes>"
      ]
     },
     "metadata": {
      "needs_background": "light"
     },
     "output_type": "display_data"
    }
   ],
   "source": [
    "import matplotlib.pyplot as plt\n",
    "plt.figure(figsize=(15, 7))\n",
    "plt.plot(range(10), bi_lstm.history['accuracy'])\n",
    "plt.plot(range(10), bi_lstm.history['val_accuracy'])\n",
    "plt.legend(['training_acc', 'validation_acc'])\n",
    "plt.title('Accuracy')"
   ]
  },
  {
   "cell_type": "code",
   "execution_count": 232,
   "id": "deae7536",
   "metadata": {},
   "outputs": [
    {
     "data": {
      "image/png": "[encoded data removed]",
      "text/plain": [
       "<Figure size 720x360 with 1 Axes>"
      ]
     },
     "metadata": {
      "needs_background": "light"
     },
     "output_type": "display_data"
    }
   ],
   "source": [
    "import matplotlib.pyplot as plt\n",
    " \n",
    "data = {'Logistic Regression':f1_score_data['F1 Score'][0]*100, 'KNN':f1_score_data['F1 Score'][1]* 100,\n",
    "       'BNB':f1_score_data['F1 Score'][2]* 100,'Naïve Bayes':f1_score_data['F1 Score'][3]* 100,\n",
    "       'SVM':f1_score_data['F1 Score'][4]* 100,'RANDOM FOREST':f1_score_data['F1 Score'][5]* 100,\n",
    "       'LSTM':lstmf1* 100,'GRU':gruf1* 100, 'Bi-Lstm':bilstmf1* 100}\n",
    "courses = list(data.keys())\n",
    "values = list(data.values())\n",
    "\n",
    "fig = plt.figure(figsize = (10, 5))\n",
    " \n",
    "# creating the bar plot\n",
    "plt.bar(courses, values, color ='maroon',\n",
    "        width = 0.4)\n",
    " \n",
    "plt.xlabel(\"F1_Score\")\n",
    "plt.ylabel(\"Models\")\n",
    "plt.title(\"Train Results\")\n",
    "plt.show()"
   ]
  },
  {
   "cell_type": "code",
   "execution_count": null,
   "id": "d9bb96bd",
   "metadata": {},
   "outputs": [],
   "source": []
  }
 ],
 "metadata": {
  "kernelspec": {
   "display_name": "Python 3 (ipykernel)",
   "language": "python",
   "name": "python3"
  },
  "language_info": {
   "codemirror_mode": {
    "name": "ipython",
    "version": 3
   },
   "file_extension": ".py",
   "mimetype": "text/x-python",
   "name": "python",
   "nbconvert_exporter": "python",
   "pygments_lexer": "ipython3",
   "version": "3.9.12"
  }
 },
 "nbformat": 4,
 "nbformat_minor": 5
}
